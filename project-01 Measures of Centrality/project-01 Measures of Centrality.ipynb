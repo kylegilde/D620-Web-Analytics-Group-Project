{
 "cells": [
  {
   "cell_type": "markdown",
   "metadata": {},
   "source": [
    "# Project 1: Measures of Centrality"
   ]
  },
  {
   "cell_type": "markdown",
   "metadata": {},
   "source": [
    "## Data 620 Web Analytics"
   ]
  },
  {
   "cell_type": "markdown",
   "metadata": {},
   "source": [
    "### Kyle Gilde & Nnaemezue Obi-eyisi"
   ]
  },
  {
   "cell_type": "markdown",
   "metadata": {},
   "source": []
  },
  {
   "cell_type": "markdown",
   "metadata": {},
   "source": [
    "For your first project, you are asked to\n",
    "\n",
    "Identify and load a network dataset that has some categorical information available for each node.\n",
    "For each of the nodes in the dataset, calculate degree centrality and eigenvector centrality.\n",
    "Compare your centrality measures across your categorical groups."
   ]
  },
  {
   "cell_type": "markdown",
   "metadata": {},
   "source": [
    "### Data Acquisition"
   ]
  },
  {
   "cell_type": "code",
   "execution_count": 4,
   "metadata": {},
   "outputs": [],
   "source": [
    "#http://www.sociopatterns.org/datasets/contacts-in-a-workplace/\n",
    "import networkx as nx\n",
    "import pandas as pd\n",
    "import numpy as np\n",
    "\n",
    "df = pd.read_csv('https://raw.githubusercontent.com/kylegilde/D620-Web-Analytics-Group-Project/master/project-01%20Measures%20of%20Centrality/tij_InVS.dat',\n",
    "                 sep=' ',\n",
    "                 header=None,\n",
    "                 names=['t', 'i', 'j']).drop('t', axis=1)\n",
    "\n",
    "g = nx.from_pandas_edgelist(df, 'i', 'j')\n",
    "\n",
    "\n",
    "attributes = pd.read_csv('http://www.sociopatterns.org/wp-content/uploads/2016/06/metadata_InVS13.txt',\n",
    "                  sep='\\t',\n",
    "                  header=None,\n",
    "                  names=['node', 'dept'])\n",
    "\n",
    "attr_dict = dict(zip(attributes.node, attributes.dept))\n",
    "#source: https://stackoverflow.com/questions/18012505/python-pandas-dataframe-columns-convert-to-dict-key-and-value/18013682\n",
    "nx.set_node_attributes(g, attr_dict, 'dept') "
   ]
  },
  {
   "cell_type": "markdown",
   "metadata": {},
   "source": [
    "### Visualizations"
   ]
  },
  {
   "cell_type": "code",
   "execution_count": 99,
   "metadata": {
    "scrolled": false
   },
   "outputs": [
    {
     "data": {
      "text/plain": [
       "NodeDataView({492: {'dept': 'SRH'}, 938: {'dept': 'DMCT'}, 267: {'dept': 'DSE'}, 272: {'dept': 'DSE'}, 181: {'dept': 'DSE'}, 826: {'dept': 'DISQ'}, 79: {'dept': 'DSE'}, 150: {'dept': 'SRH'}, 196: {'dept': 'DSE'}, 21: {'dept': 'DMCT'}, 205: {'dept': 'DSE'}, 448: {'dept': 'SRH'}, 765: {'dept': 'DSE'}, 39: {'dept': 'DSE'}, 253: {'dept': 'DISQ'}, 80: {'dept': 'DMCT'}, 123: {'dept': 'DSE'}, 845: {'dept': 'DISQ'}, 118: {'dept': 'DMCT'}, 311: {'dept': 'DSE'}, 95: {'dept': 'DSE'}, 771: {'dept': 'DMCT'}, 153: {'dept': 'SRH'}, 164: {'dept': 'DSE'}, 179: {'dept': 'DMCT'}, 481: {'dept': 'SRH'}, 122: {'dept': 'SRH'}, 120: {'dept': 'DSE'}, 819: {'dept': 'DSE'}, 431: {'dept': 'DMCT'}, 778: {'dept': 'DISQ'}, 271: {'dept': 'SRH'}, 601: {'dept': 'SRH'}, 15: {'dept': 'DSE'}, 56: {'dept': 'DSE'}, 194: {'dept': 'DSE'}, 786: {'dept': 'DSE'}, 603: {'dept': 'DSE'}, 496: {'dept': 'DSE'}, 275: {'dept': 'DMCT'}, 222: {'dept': 'DSE'}, 50: {'dept': 'DMCT'}, 172: {'dept': 'DSE'}, 29: {'dept': 'DSE'}, 223: {'dept': 'DSE'}, 116: {'dept': 'SFLE'}, 285: {'dept': 'DMCT'}, 762: {'dept': 'DMCT'}, 63: {'dept': 'SRH'}, 939: {'dept': 'DSE'}, 335: {'dept': 'DMCT'}, 105: {'dept': 'DMCT'}, 113: {'dept': 'DSE'}, 513: {'dept': 'DSE'}, 119: {'dept': 'DMCT'}, 154: {'dept': 'SRH'}, 494: {'dept': 'DSE'}, 48: {'dept': 'DMCT'}, 209: {'dept': 'DMCT'}, 17: {'dept': 'DMCT'}, 66: {'dept': 'DMCT'}, 102: {'dept': 'DMCT'}, 134: {'dept': 'DMCT'}, 240: {'dept': 'DMCT'}, 242: {'dept': 'DSE'}, 804: {'dept': 'DMCT'}, 511: {'dept': 'DMCT'}, 875: {'dept': 'DMCT'}, 184: {'dept': 'DISQ'}, 499: {'dept': 'SRH'}, 268: {'dept': 'DISQ'}, 185: {'dept': 'DISQ'}, 533: {'dept': 'SRH'}, 987: {'dept': 'DSE'}, 210: {'dept': 'DISQ'}, 35: {'dept': 'DISQ'}, 131: {'dept': 'DISQ'}, 211: {'dept': 'SFLE'}, 751: {'dept': 'DISQ'}, 265: {'dept': 'DISQ'}, 784: {'dept': 'DMCT'}, 273: {'dept': 'DISQ'}, 662: {'dept': 'DSE'}, 709: {'dept': 'SRH'}, 101: {'dept': 'DMCT'}, 779: {'dept': 'DSE'}, 132: {'dept': 'DSE'}, 255: {'dept': 'DISQ'}, 213: {'dept': 'SFLE'}, 791: {'dept': 'DSE'}, 743: {'dept': 'DISQ'}, 87: {'dept': 'SFLE'}})"
      ]
     },
     "execution_count": 99,
     "metadata": {},
     "output_type": "execute_result"
    }
   ],
   "source": [
    "g.nodes(data=True)"
   ]
  },
  {
   "cell_type": "code",
   "execution_count": 97,
   "metadata": {
    "scrolled": true
   },
   "outputs": [
    {
     "data": {
      "text/plain": [
       "NodeDataView({492: {'dept': 'SRH'}, 938: {'dept': 'DMCT'}, 267: {'dept': 'DSE'}, 272: {'dept': 'DSE'}, 181: {'dept': 'DSE'}, 826: {'dept': 'DISQ'}, 79: {'dept': 'DSE'}, 150: {'dept': 'SRH'}, 196: {'dept': 'DSE'}, 21: {'dept': 'DMCT'}, 205: {'dept': 'DSE'}, 448: {'dept': 'SRH'}, 765: {'dept': 'DSE'}, 39: {'dept': 'DSE'}, 253: {'dept': 'DISQ'}, 80: {'dept': 'DMCT'}, 123: {'dept': 'DSE'}, 845: {'dept': 'DISQ'}, 118: {'dept': 'DMCT'}, 311: {'dept': 'DSE'}, 95: {'dept': 'DSE'}, 771: {'dept': 'DMCT'}, 153: {'dept': 'SRH'}, 164: {'dept': 'DSE'}, 179: {'dept': 'DMCT'}, 481: {'dept': 'SRH'}, 122: {'dept': 'SRH'}, 120: {'dept': 'DSE'}, 819: {'dept': 'DSE'}, 431: {'dept': 'DMCT'}, 778: {'dept': 'DISQ'}, 271: {'dept': 'SRH'}, 601: {'dept': 'SRH'}, 15: {'dept': 'DSE'}, 56: {'dept': 'DSE'}, 194: {'dept': 'DSE'}, 786: {'dept': 'DSE'}, 603: {'dept': 'DSE'}, 496: {'dept': 'DSE'}, 275: {'dept': 'DMCT'}, 222: {'dept': 'DSE'}, 50: {'dept': 'DMCT'}, 172: {'dept': 'DSE'}, 29: {'dept': 'DSE'}, 223: {'dept': 'DSE'}, 116: {'dept': 'SFLE'}, 285: {'dept': 'DMCT'}, 762: {'dept': 'DMCT'}, 63: {'dept': 'SRH'}, 939: {'dept': 'DSE'}, 335: {'dept': 'DMCT'}, 105: {'dept': 'DMCT'}, 113: {'dept': 'DSE'}, 513: {'dept': 'DSE'}, 119: {'dept': 'DMCT'}, 154: {'dept': 'SRH'}, 494: {'dept': 'DSE'}, 48: {'dept': 'DMCT'}, 209: {'dept': 'DMCT'}, 17: {'dept': 'DMCT'}, 66: {'dept': 'DMCT'}, 102: {'dept': 'DMCT'}, 134: {'dept': 'DMCT'}, 240: {'dept': 'DMCT'}, 242: {'dept': 'DSE'}, 804: {'dept': 'DMCT'}, 511: {'dept': 'DMCT'}, 875: {'dept': 'DMCT'}, 184: {'dept': 'DISQ'}, 499: {'dept': 'SRH'}, 268: {'dept': 'DISQ'}, 185: {'dept': 'DISQ'}, 533: {'dept': 'SRH'}, 987: {'dept': 'DSE'}, 210: {'dept': 'DISQ'}, 35: {'dept': 'DISQ'}, 131: {'dept': 'DISQ'}, 211: {'dept': 'SFLE'}, 751: {'dept': 'DISQ'}, 265: {'dept': 'DISQ'}, 784: {'dept': 'DMCT'}, 273: {'dept': 'DISQ'}, 662: {'dept': 'DSE'}, 709: {'dept': 'SRH'}, 101: {'dept': 'DMCT'}, 779: {'dept': 'DSE'}, 132: {'dept': 'DSE'}, 255: {'dept': 'DISQ'}, 213: {'dept': 'SFLE'}, 791: {'dept': 'DSE'}, 743: {'dept': 'DISQ'}, 87: {'dept': 'SFLE'}})"
      ]
     },
     "execution_count": 97,
     "metadata": {},
     "output_type": "execute_result"
    }
   ],
   "source": []
  },
  {
   "cell_type": "markdown",
   "metadata": {},
   "source": [
    "### Degree Centrality"
   ]
  },
  {
   "cell_type": "markdown",
   "metadata": {},
   "source": [
    "### Closeness Centrality"
   ]
  },
  {
   "cell_type": "markdown",
   "metadata": {},
   "source": [
    "### Betweenness Centrality"
   ]
  },
  {
   "cell_type": "markdown",
   "metadata": {},
   "source": [
    "### Eigenvector Centrality"
   ]
  }
 ],
 "metadata": {
  "kernelspec": {
   "display_name": "Python 3",
   "language": "python",
   "name": "python3"
  },
  "language_info": {
   "codemirror_mode": {
    "name": "ipython",
    "version": 3
   },
   "file_extension": ".py",
   "mimetype": "text/x-python",
   "name": "python",
   "nbconvert_exporter": "python",
   "pygments_lexer": "ipython3",
   "version": "3.6.5"
  }
 },
 "nbformat": 4,
 "nbformat_minor": 2
}
